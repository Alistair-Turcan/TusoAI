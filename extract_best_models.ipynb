{
 "cells": [
  {
   "cell_type": "code",
   "execution_count": null,
   "id": "9317e47b-7cee-4982-b901-7b878f59420f",
   "metadata": {},
   "outputs": [],
   "source": [
    "import json\n",
    "import math\n",
    "import sys\n",
    "from collections import deque\n",
    "\n",
    "def iter_code_accuracy(obj):\n",
    "    \"\"\"\n",
    "    Recursively traverse any JSON-like structure and yield (code, accuracy)\n",
    "    for objects that contain both keys.\n",
    "    \"\"\"\n",
    "    q = deque([obj])\n",
    "    while q:\n",
    "        cur = q.popleft()\n",
    "        if isinstance(cur, dict):\n",
    "            # If it looks like a code-accuracy record, yield it\n",
    "            if \"code\" in cur and \"accuracy\" in cur:\n",
    "                code = cur[\"code\"]\n",
    "                acc = cur[\"accuracy\"]\n",
    "                # Be defensive about types\n",
    "                try:\n",
    "                    acc = float(acc)\n",
    "                except (TypeError, ValueError):\n",
    "                    acc = None\n",
    "                if isinstance(code, str) and acc is not None:\n",
    "                    yield code, acc\n",
    "            # Keep traversing\n",
    "            for v in cur.values():\n",
    "                q.append(v)\n",
    "        elif isinstance(cur, list):\n",
    "            q.extend(cur)\n",
    "\n",
    "def main(path):\n",
    "    with open(path, \"r\", encoding=\"utf-8\") as f:\n",
    "        data = json.load(f)\n",
    "    pairs = list(iter_code_accuracy(data))\n",
    "    if not pairs:\n",
    "        print(\"\")  # nothing found; print empty string\n",
    "        return\n",
    "    # Find top accuracy\n",
    "    top_acc = max(acc for _, acc in pairs)\n",
    "\n",
    "    # Compute 1% band around top accuracy (relative to |top_acc|)\n",
    "    tol = 0.001 * abs(top_acc)\n",
    "    # If top_acc is exactly 0, only exact matches qualify\n",
    "    def within_one_percent(acc):\n",
    "        return abs(acc - top_acc) <= tol\n",
    "\n",
    "    candidates = [(code, acc) for code, acc in pairs if within_one_percent(acc)]\n",
    "\n",
    "    # Among candidates, choose the shortest code (by character length).\n",
    "    # If thereâ€™s a tie, prefer the one with the higher accuracy, then the earlier one.\n",
    "    candidates.sort(key=lambda ca: (len(ca[0]), -ca[1]))\n",
    "    best_code = candidates[0][0]\n",
    "    best_accuracy = candidates[0][1]\n",
    "    # Print only the code, as requested\n",
    "    return best_code, best_accuracy, len(pairs)\n",
    "\n"
   ]
  },
  {
   "cell_type": "code",
   "execution_count": null,
   "id": "4db659fe-ecbc-45b9-abb8-91a5ddf17342",
   "metadata": {
    "scrolled": true
   },
   "outputs": [],
   "source": [
    "filename = f'....json'\n",
    "best_code, best_accuracy, code_generated = main(filename)"
   ]
  },
  {
   "cell_type": "code",
   "execution_count": null,
   "id": "3e7f7ff9-2d3b-44c3-8bde-ee1b611ffb0d",
   "metadata": {},
   "outputs": [],
   "source": []
  }
 ],
 "metadata": {
  "kernelspec": {
   "display_name": "Python (tusoai_env)",
   "language": "python",
   "name": "tusoai_env"
  },
  "language_info": {
   "codemirror_mode": {
    "name": "ipython",
    "version": 3
   },
   "file_extension": ".py",
   "mimetype": "text/x-python",
   "name": "python",
   "nbconvert_exporter": "python",
   "pygments_lexer": "ipython3",
   "version": "3.10.18"
  }
 },
 "nbformat": 4,
 "nbformat_minor": 5
}
